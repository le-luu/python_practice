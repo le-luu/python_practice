{
 "cells": [
  {
   "cell_type": "markdown",
   "id": "c2d710c0",
   "metadata": {},
   "source": [
    "## Challenge 351\n",
    "Link: https://community.alteryx.com/t5/Weekly-Challenges/Challenge-351-Uber-Pickups-in-New-York/td-p/1055665\n",
    "\n",
    "How many pickups does Uber make in New York City?\n",
    "\n",
    "This is what we are going to investigate in this challenge.   "
   ]
  },
  {
   "cell_type": "markdown",
   "id": "d56a96f3",
   "metadata": {},
   "source": [
    "### Prepare Data"
   ]
  },
  {
   "cell_type": "code",
   "execution_count": 2,
   "id": "ccc0244b",
   "metadata": {},
   "outputs": [],
   "source": [
    "import pandas as pd\n",
    "import datetime as dt"
   ]
  },
  {
   "cell_type": "code",
   "execution_count": 3,
   "id": "af980374",
   "metadata": {},
   "outputs": [],
   "source": [
    "df = pd.read_csv(\"uber_nyc.csv\")"
   ]
  },
  {
   "cell_type": "code",
   "execution_count": 4,
   "id": "737450db",
   "metadata": {},
   "outputs": [
    {
     "data": {
      "text/plain": [
       "pickup_date     object\n",
       "borough         object\n",
       "pickups          int64\n",
       "speed          float64\n",
       "dtype: object"
      ]
     },
     "execution_count": 4,
     "metadata": {},
     "output_type": "execute_result"
    }
   ],
   "source": [
    "df.dtypes"
   ]
  },
  {
   "cell_type": "code",
   "execution_count": 5,
   "id": "a4516850",
   "metadata": {},
   "outputs": [
    {
     "name": "stderr",
     "output_type": "stream",
     "text": [
      "C:\\Users\\LeLuu\\AppData\\Local\\Temp\\ipykernel_42796\\3756621648.py:2: UserWarning: Could not infer format, so each element will be parsed individually, falling back to `dateutil`. To ensure parsing is consistent and as-expected, please specify a format.\n",
      "  df['pickup_date'] = pd.to_datetime(df['pickup_date'])\n"
     ]
    }
   ],
   "source": [
    "# Convert the pickup date data type from object to date time\n",
    "df['pickup_date'] = pd.to_datetime(df['pickup_date'])"
   ]
  },
  {
   "cell_type": "code",
   "execution_count": 11,
   "id": "01b6d0c3",
   "metadata": {},
   "outputs": [],
   "source": [
    "# Change the date time format\n",
    "df['date'] = df['pickup_date'].dt.strftime('%Y-%m-%d')"
   ]
  },
  {
   "cell_type": "code",
   "execution_count": 12,
   "id": "0fbfd5bd",
   "metadata": {},
   "outputs": [],
   "source": [
    "#Filter the data to the first month only\n",
    "df_filter = df[df['pickup_date'].dt.month==1]"
   ]
  },
  {
   "cell_type": "code",
   "execution_count": 8,
   "id": "a6bcee61",
   "metadata": {},
   "outputs": [
    {
     "data": {
      "text/html": [
       "<div>\n",
       "<style scoped>\n",
       "    .dataframe tbody tr th:only-of-type {\n",
       "        vertical-align: middle;\n",
       "    }\n",
       "\n",
       "    .dataframe tbody tr th {\n",
       "        vertical-align: top;\n",
       "    }\n",
       "\n",
       "    .dataframe thead th {\n",
       "        text-align: right;\n",
       "    }\n",
       "</style>\n",
       "<table border=\"1\" class=\"dataframe\">\n",
       "  <thead>\n",
       "    <tr style=\"text-align: right;\">\n",
       "      <th></th>\n",
       "      <th>pickup_date</th>\n",
       "      <th>borough</th>\n",
       "      <th>pickups</th>\n",
       "      <th>speed</th>\n",
       "      <th>date</th>\n",
       "    </tr>\n",
       "  </thead>\n",
       "  <tbody>\n",
       "    <tr>\n",
       "      <th>0</th>\n",
       "      <td>2015-01-01 01:00:00</td>\n",
       "      <td>Bronx</td>\n",
       "      <td>152</td>\n",
       "      <td>5.0</td>\n",
       "      <td>2015-01-01</td>\n",
       "    </tr>\n",
       "    <tr>\n",
       "      <th>1</th>\n",
       "      <td>2015-01-01 01:00:00</td>\n",
       "      <td>Brooklyn</td>\n",
       "      <td>1519</td>\n",
       "      <td>5.0</td>\n",
       "      <td>2015-01-01</td>\n",
       "    </tr>\n",
       "    <tr>\n",
       "      <th>2</th>\n",
       "      <td>2015-01-01 01:00:00</td>\n",
       "      <td>Manhattan</td>\n",
       "      <td>5258</td>\n",
       "      <td>5.0</td>\n",
       "      <td>2015-01-01</td>\n",
       "    </tr>\n",
       "    <tr>\n",
       "      <th>3</th>\n",
       "      <td>2015-01-01 01:00:00</td>\n",
       "      <td>Queens</td>\n",
       "      <td>405</td>\n",
       "      <td>5.0</td>\n",
       "      <td>2015-01-01</td>\n",
       "    </tr>\n",
       "    <tr>\n",
       "      <th>4</th>\n",
       "      <td>2015-01-01 01:00:00</td>\n",
       "      <td>Staten Island</td>\n",
       "      <td>6</td>\n",
       "      <td>5.0</td>\n",
       "      <td>2015-01-01</td>\n",
       "    </tr>\n",
       "    <tr>\n",
       "      <th>...</th>\n",
       "      <td>...</td>\n",
       "      <td>...</td>\n",
       "      <td>...</td>\n",
       "      <td>...</td>\n",
       "      <td>...</td>\n",
       "    </tr>\n",
       "    <tr>\n",
       "      <th>21710</th>\n",
       "      <td>2015-06-30 23:00:00</td>\n",
       "      <td>Bronx</td>\n",
       "      <td>67</td>\n",
       "      <td>7.0</td>\n",
       "      <td>2015-06-30</td>\n",
       "    </tr>\n",
       "    <tr>\n",
       "      <th>21711</th>\n",
       "      <td>2015-06-30 23:00:00</td>\n",
       "      <td>Brooklyn</td>\n",
       "      <td>990</td>\n",
       "      <td>7.0</td>\n",
       "      <td>2015-06-30</td>\n",
       "    </tr>\n",
       "    <tr>\n",
       "      <th>21712</th>\n",
       "      <td>2015-06-30 23:00:00</td>\n",
       "      <td>Manhattan</td>\n",
       "      <td>3828</td>\n",
       "      <td>7.0</td>\n",
       "      <td>2015-06-30</td>\n",
       "    </tr>\n",
       "    <tr>\n",
       "      <th>21713</th>\n",
       "      <td>2015-06-30 23:00:00</td>\n",
       "      <td>Queens</td>\n",
       "      <td>580</td>\n",
       "      <td>7.0</td>\n",
       "      <td>2015-06-30</td>\n",
       "    </tr>\n",
       "    <tr>\n",
       "      <th>21714</th>\n",
       "      <td>2015-06-30 23:00:00</td>\n",
       "      <td>Staten Island</td>\n",
       "      <td>0</td>\n",
       "      <td>7.0</td>\n",
       "      <td>2015-06-30</td>\n",
       "    </tr>\n",
       "  </tbody>\n",
       "</table>\n",
       "<p>21715 rows × 5 columns</p>\n",
       "</div>"
      ],
      "text/plain": [
       "              pickup_date        borough  pickups  speed        date\n",
       "0     2015-01-01 01:00:00          Bronx      152    5.0  2015-01-01\n",
       "1     2015-01-01 01:00:00       Brooklyn     1519    5.0  2015-01-01\n",
       "2     2015-01-01 01:00:00      Manhattan     5258    5.0  2015-01-01\n",
       "3     2015-01-01 01:00:00         Queens      405    5.0  2015-01-01\n",
       "4     2015-01-01 01:00:00  Staten Island        6    5.0  2015-01-01\n",
       "...                   ...            ...      ...    ...         ...\n",
       "21710 2015-06-30 23:00:00          Bronx       67    7.0  2015-06-30\n",
       "21711 2015-06-30 23:00:00       Brooklyn      990    7.0  2015-06-30\n",
       "21712 2015-06-30 23:00:00      Manhattan     3828    7.0  2015-06-30\n",
       "21713 2015-06-30 23:00:00         Queens      580    7.0  2015-06-30\n",
       "21714 2015-06-30 23:00:00  Staten Island        0    7.0  2015-06-30\n",
       "\n",
       "[21715 rows x 5 columns]"
      ]
     },
     "execution_count": 8,
     "metadata": {},
     "output_type": "execute_result"
    }
   ],
   "source": [
    "df"
   ]
  },
  {
   "cell_type": "markdown",
   "id": "83b790b2",
   "metadata": {},
   "source": [
    "### Aggregate function"
   ]
  },
  {
   "cell_type": "code",
   "execution_count": 13,
   "id": "ff5ef005",
   "metadata": {},
   "outputs": [],
   "source": [
    "# Group by date and borough, find the total pickups\n",
    "result = df_filter.groupby(by=['date','borough']).agg({'pickups':'sum'})"
   ]
  },
  {
   "cell_type": "code",
   "execution_count": 10,
   "id": "1fc843d1",
   "metadata": {},
   "outputs": [
    {
     "data": {
      "text/html": [
       "<div>\n",
       "<style scoped>\n",
       "    .dataframe tbody tr th:only-of-type {\n",
       "        vertical-align: middle;\n",
       "    }\n",
       "\n",
       "    .dataframe tbody tr th {\n",
       "        vertical-align: top;\n",
       "    }\n",
       "\n",
       "    .dataframe thead th {\n",
       "        text-align: right;\n",
       "    }\n",
       "</style>\n",
       "<table border=\"1\" class=\"dataframe\">\n",
       "  <thead>\n",
       "    <tr style=\"text-align: right;\">\n",
       "      <th></th>\n",
       "      <th>date</th>\n",
       "      <th>borough</th>\n",
       "      <th>pickups</th>\n",
       "    </tr>\n",
       "  </thead>\n",
       "  <tbody>\n",
       "    <tr>\n",
       "      <th>0</th>\n",
       "      <td>2015-01-01</td>\n",
       "      <td>Bronx</td>\n",
       "      <td>1075</td>\n",
       "    </tr>\n",
       "    <tr>\n",
       "      <th>1</th>\n",
       "      <td>2015-01-01</td>\n",
       "      <td>Brooklyn</td>\n",
       "      <td>12528</td>\n",
       "    </tr>\n",
       "    <tr>\n",
       "      <th>2</th>\n",
       "      <td>2015-01-01</td>\n",
       "      <td>Manhattan</td>\n",
       "      <td>35870</td>\n",
       "    </tr>\n",
       "    <tr>\n",
       "      <th>3</th>\n",
       "      <td>2015-01-01</td>\n",
       "      <td>Queens</td>\n",
       "      <td>5108</td>\n",
       "    </tr>\n",
       "    <tr>\n",
       "      <th>4</th>\n",
       "      <td>2015-01-01</td>\n",
       "      <td>Staten Island</td>\n",
       "      <td>53</td>\n",
       "    </tr>\n",
       "    <tr>\n",
       "      <th>...</th>\n",
       "      <td>...</td>\n",
       "      <td>...</td>\n",
       "      <td>...</td>\n",
       "    </tr>\n",
       "    <tr>\n",
       "      <th>150</th>\n",
       "      <td>2015-01-31</td>\n",
       "      <td>Bronx</td>\n",
       "      <td>1019</td>\n",
       "    </tr>\n",
       "    <tr>\n",
       "      <th>151</th>\n",
       "      <td>2015-01-31</td>\n",
       "      <td>Brooklyn</td>\n",
       "      <td>17983</td>\n",
       "    </tr>\n",
       "    <tr>\n",
       "      <th>152</th>\n",
       "      <td>2015-01-31</td>\n",
       "      <td>Manhattan</td>\n",
       "      <td>68945</td>\n",
       "    </tr>\n",
       "    <tr>\n",
       "      <th>153</th>\n",
       "      <td>2015-01-31</td>\n",
       "      <td>Queens</td>\n",
       "      <td>6438</td>\n",
       "    </tr>\n",
       "    <tr>\n",
       "      <th>154</th>\n",
       "      <td>2015-01-31</td>\n",
       "      <td>Staten Island</td>\n",
       "      <td>42</td>\n",
       "    </tr>\n",
       "  </tbody>\n",
       "</table>\n",
       "<p>155 rows × 3 columns</p>\n",
       "</div>"
      ],
      "text/plain": [
       "           date        borough  pickups\n",
       "0    2015-01-01          Bronx     1075\n",
       "1    2015-01-01       Brooklyn    12528\n",
       "2    2015-01-01      Manhattan    35870\n",
       "3    2015-01-01         Queens     5108\n",
       "4    2015-01-01  Staten Island       53\n",
       "..          ...            ...      ...\n",
       "150  2015-01-31          Bronx     1019\n",
       "151  2015-01-31       Brooklyn    17983\n",
       "152  2015-01-31      Manhattan    68945\n",
       "153  2015-01-31         Queens     6438\n",
       "154  2015-01-31  Staten Island       42\n",
       "\n",
       "[155 rows x 3 columns]"
      ]
     },
     "execution_count": 10,
     "metadata": {},
     "output_type": "execute_result"
    }
   ],
   "source": [
    "result.reset_index()"
   ]
  },
  {
   "cell_type": "code",
   "execution_count": null,
   "id": "2d1b2b87",
   "metadata": {},
   "outputs": [],
   "source": []
  }
 ],
 "metadata": {
  "kernelspec": {
   "display_name": "base",
   "language": "python",
   "name": "python3"
  },
  "language_info": {
   "codemirror_mode": {
    "name": "ipython",
    "version": 3
   },
   "file_extension": ".py",
   "mimetype": "text/x-python",
   "name": "python",
   "nbconvert_exporter": "python",
   "pygments_lexer": "ipython3",
   "version": "3.11.13"
  }
 },
 "nbformat": 4,
 "nbformat_minor": 5
}
